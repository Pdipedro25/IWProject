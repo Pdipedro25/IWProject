{
 "cells": [
  {
   "cell_type": "code",
   "execution_count": 1,
   "metadata": {
    "ExecuteTime": {
     "end_time": "2019-05-13T14:36:21.824058Z",
     "start_time": "2019-05-13T14:36:12.942730Z"
    }
   },
   "outputs": [],
   "source": [
    "import numpy as np\n",
    "import os\n",
    "from sklearn.ensemble import IsolationForest\n",
    "from sklearn.model_selection import train_test_split\n",
    "import matplotlib.pyplot as plt\n",
    "from os.path import join\n",
    "import PIL\n",
    "from PIL import Image, ImageOps\n",
    "import cv2\n",
    "from sklearn.model_selection import train_test_split, KFold, cross_val_score\n",
    "from sklearn.naive_bayes import GaussianNB\n",
    "\n",
    "\n"
   ]
  },
  {
   "cell_type": "code",
   "execution_count": 10,
   "metadata": {
    "ExecuteTime": {
     "end_time": "2019-05-13T14:41:02.977558Z",
     "start_time": "2019-05-13T14:41:02.969816Z"
    }
   },
   "outputs": [],
   "source": [
    "# Extract histogram from one image\n",
    "\n",
    "def extract_hist(img):\n",
    "    color = ('b','g','r')\n",
    "    histogram = np.empty([3,256])\n",
    "    for channel,col in enumerate(color):\n",
    "        histr = cv2.calcHist([np.asarray(img)],[channel],None,[256],[0,256])\n",
    "        histogram[channel] = np.transpose(histr)\n",
    "    return histogram.ravel()"
   ]
  },
  {
   "cell_type": "code",
   "execution_count": 22,
   "metadata": {
    "ExecuteTime": {
     "end_time": "2019-05-13T14:52:01.714200Z",
     "start_time": "2019-05-13T14:52:01.703892Z"
    }
   },
   "outputs": [],
   "source": [
    "def plot_hist(img):\n",
    "    color = ('b','g','r')\n",
    "    for histr,col in zip(np.split(img,3),color):\n",
    "        plt.plot(histr,color = col)\n",
    "        plt.xlim([0,256])\n",
    "    plt.show()"
   ]
  },
  {
   "cell_type": "code",
   "execution_count": 4,
   "metadata": {
    "ExecuteTime": {
     "end_time": "2019-05-13T14:36:48.385299Z",
     "start_time": "2019-05-13T14:36:48.369491Z"
    }
   },
   "outputs": [],
   "source": [
    "# import car images from natural images\n",
    "img_dir_dist = \"./image_dataset/0\"\n",
    "img_dir_good = \"./image_dataset/1\"\n",
    "img_paths_dist = [join(img_dir_dist,filename) for filename in os.listdir(img_dir_dist)]\n",
    "img_paths_good = [join(img_dir_good,filename) for filename in os.listdir(img_dir_good)]"
   ]
  },
  {
   "cell_type": "code",
   "execution_count": 11,
   "metadata": {
    "ExecuteTime": {
     "end_time": "2019-05-13T14:41:39.762151Z",
     "start_time": "2019-05-13T14:41:05.134334Z"
    }
   },
   "outputs": [],
   "source": [
    "X = np.zeros((len(img_paths_dist) + len(img_paths_good),768), dtype=int)\n",
    "y = []\n",
    "i = 0\n",
    "\n",
    "for image in img_paths_dist:\n",
    "    X[i] = extract_hist(Image.open( image ))\n",
    "    y.append(0)\n",
    "    i+=1\n",
    "\n",
    "for image in img_paths_good:\n",
    "    X[i] = extract_hist(Image.open( image ))\n",
    "    y.append(1)\n",
    "    i+=1\n",
    "    "
   ]
  },
  {
   "cell_type": "code",
   "execution_count": 21,
   "metadata": {
    "ExecuteTime": {
     "end_time": "2019-05-13T14:51:28.765096Z",
     "start_time": "2019-05-13T14:51:28.584563Z"
    }
   },
   "outputs": [
    {
     "data": {
      "image/png": "[encoded data removed]",
      "text/plain": [
       "<Figure size 432x288 with 1 Axes>"
      ]
     },
     "metadata": {
      "needs_background": "light"
     },
     "output_type": "display_data"
    }
   ],
   "source": [
    "plot_hist(X[9])"
   ]
  },
  {
   "cell_type": "code",
   "execution_count": 46,
   "metadata": {
    "ExecuteTime": {
     "end_time": "2019-05-13T15:11:46.362761Z",
     "start_time": "2019-05-13T15:11:46.353649Z"
    }
   },
   "outputs": [],
   "source": [
    "X_train, X_test, y_train, y_test = train_test_split(X,y,test_size=0.3,random_state=2)"
   ]
  },
  {
   "cell_type": "code",
   "execution_count": 50,
   "metadata": {
    "ExecuteTime": {
     "end_time": "2019-05-13T15:13:48.515621Z",
     "start_time": "2019-05-13T15:13:48.340914Z"
    },
    "scrolled": true
   },
   "outputs": [
    {
     "name": "stdout",
     "output_type": "stream",
     "text": [
      "Accuracy 1.0\n",
      "Precision 0.9586908260754201\n"
     ]
    }
   ],
   "source": [
    "kf = KFold(n_splits=10, shuffle=True, random_state=False)\n",
    "gnb = GaussianNB()\n",
    "gnb.fit(X_train,y_train)\n",
    "print('Accuracy',gnb.score(X_test,y_test))\n",
    "print('Precision',np.mean(cross_val_score(gnb, X, y, cv=kf, scoring='precision')))"
   ]
  },
  {
   "cell_type": "code",
   "execution_count": null,
   "metadata": {},
   "outputs": [],
   "source": []
  }
 ],
 "metadata": {
  "kernelspec": {
   "display_name": "Python 3",
   "language": "python",
   "name": "python3"
  },
  "language_info": {
   "codemirror_mode": {
    "name": "ipython",
    "version": 3
   },
   "file_extension": ".py",
   "mimetype": "text/x-python",
   "name": "python",
   "nbconvert_exporter": "python",
   "pygments_lexer": "ipython3",
   "version": "3.7.3"
  },
  "toc": {
   "base_numbering": 1,
   "nav_menu": {},
   "number_sections": true,
   "sideBar": true,
   "skip_h1_title": false,
   "title_cell": "Table of Contents",
   "title_sidebar": "Contents",
   "toc_cell": false,
   "toc_position": {},
   "toc_section_display": true,
   "toc_window_display": false
  },
  "varInspector": {
   "cols": {
    "lenName": 16,
    "lenType": 16,
    "lenVar": 40
   },
   "kernels_config": {
    "python": {
     "delete_cmd_postfix": "",
     "delete_cmd_prefix": "del ",
     "library": "var_list.py",
     "varRefreshCmd": "print(var_dic_list())"
    },
    "r": {
     "delete_cmd_postfix": ") ",
     "delete_cmd_prefix": "rm(",
     "library": "var_list.r",
     "varRefreshCmd": "cat(var_dic_list()) "
    }
   },
   "types_to_exclude": [
    "module",
    "function",
    "builtin_function_or_method",
    "instance",
    "_Feature"
   ],
   "window_display": false
  }
 },
 "nbformat": 4,
 "nbformat_minor": 2
}

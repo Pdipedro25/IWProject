{
 "cells": [
  {
   "cell_type": "markdown",
   "metadata": {},
   "source": [
    "# Client"
   ]
  },
  {
   "cell_type": "code",
   "execution_count": 33,
   "metadata": {
    "ExecuteTime": {
     "end_time": "2019-05-29T14:14:40.716045Z",
     "start_time": "2019-05-29T14:14:40.706224Z"
    }
   },
   "outputs": [
    {
     "name": "stdout",
     "output_type": "stream",
     "text": [
      "Sending Filename...\n",
      "Done sending\n",
      "connection closed\n"
     ]
    }
   ],
   "source": [
    "import socket                   # Import socket module\n",
    "import os\n",
    "s = socket.socket()             # Create a socket object\n",
    "host = socket.gethostname()     # Get local machine name\n",
    "port = 60000                    # Reserve a port for your service.\n",
    "\n",
    "s.connect((host, port))\n",
    "\n",
    "\n",
    "image_path = './image_dataset/1/CAM39_2017_09_14_14_21.jpg'\n",
    "header = f'{os.path.basename(image_path):<{HEADERSIZE}}' \n",
    "\n",
    "print('Sending Filename...')\n",
    "\n",
    "s.send(bytes(header, 'utf-8'))\n",
    "\n",
    "f = open(image_path,'rb')\n",
    "l = f.read(1024)\n",
    "\n",
    "while (l):\n",
    "    s.send(l)\n",
    "    l = f.read(1024)\n",
    "\n",
    "f.close()\n",
    "\n",
    "print('Done sending')\n",
    "s.close()\n",
    "print('connection closed')"
   ]
  },
  {
   "cell_type": "code",
   "execution_count": null,
   "metadata": {
    "ExecuteTime": {
     "end_time": "2019-05-29T13:55:49.198567Z",
     "start_time": "2019-05-29T13:55:49.192730Z"
    }
   },
   "outputs": [],
   "source": []
  },
  {
   "cell_type": "code",
   "execution_count": null,
   "metadata": {},
   "outputs": [],
   "source": []
  }
 ],
 "metadata": {
  "kernelspec": {
   "display_name": "Python 3",
   "language": "python",
   "name": "python3"
  },
  "language_info": {
   "codemirror_mode": {
    "name": "ipython",
    "version": 3
   },
   "file_extension": ".py",
   "mimetype": "text/x-python",
   "name": "python",
   "nbconvert_exporter": "python",
   "pygments_lexer": "ipython3",
   "version": "3.7.3"
  },
  "toc": {
   "base_numbering": 1,
   "nav_menu": {},
   "number_sections": true,
   "sideBar": true,
   "skip_h1_title": false,
   "title_cell": "Table of Contents",
   "title_sidebar": "Contents",
   "toc_cell": false,
   "toc_position": {},
   "toc_section_display": true,
   "toc_window_display": false
  },
  "varInspector": {
   "cols": {
    "lenName": 16,
    "lenType": 16,
    "lenVar": 40
   },
   "kernels_config": {
    "python": {
     "delete_cmd_postfix": "",
     "delete_cmd_prefix": "del ",
     "library": "var_list.py",
     "varRefreshCmd": "print(var_dic_list())"
    },
    "r": {
     "delete_cmd_postfix": ") ",
     "delete_cmd_prefix": "rm(",
     "library": "var_list.r",
     "varRefreshCmd": "cat(var_dic_list()) "
    }
   },
   "types_to_exclude": [
    "module",
    "function",
    "builtin_function_or_method",
    "instance",
    "_Feature"
   ],
   "window_display": false
  }
 },
 "nbformat": 4,
 "nbformat_minor": 2
}

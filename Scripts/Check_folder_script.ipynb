{
 "cells": [
  {
   "cell_type": "markdown",
   "metadata": {},
   "source": [
    "The scheduler class defines a generic interface to scheduling events."
   ]
  },
  {
   "cell_type": "code",
   "execution_count": 5,
   "metadata": {
    "ExecuteTime": {
     "end_time": "2019-05-29T14:54:14.944896Z",
     "start_time": "2019-05-29T14:54:13.479213Z"
    }
   },
   "outputs": [],
   "source": [
    "import sched, time\n",
    "import pickle\n",
    "from PIL import Image\n",
    "import cv2\n",
    "import os\n",
    "\n",
    "def extract_hist(img):\n",
    "    color = ('b','g','r')\n",
    "    histogram = np.empty([3,256])\n",
    "    for channel,col in enumerate(color):\n",
    "        histr = cv2.calcHist([np.asarray(img)],[channel],None,[256],[0,256])\n",
    "        histogram[channel] = np.transpose(histr)\n",
    "    return histogram.ravel()\n",
    "\n",
    "\n",
    "loaded_model = pickle.load(open('./Classifiers/GaussianNB', 'rb'))\n"
   ]
  },
  {
   "cell_type": "markdown",
   "metadata": {},
   "source": [
    "Here, we chose to use this method:\n",
    "    scheduler.enter(delay, priority, action, argument=(), kwargs={})\n",
    "    \n",
    "This method execute the 'action' function every delay time.\n",
    "\n",
    "In our case, we iterate over the images folder to look for bad images and if the classifier tells that the image is not good, it will be deleted."
   ]
  },
  {
   "cell_type": "code",
   "execution_count": 1,
   "metadata": {
    "ExecuteTime": {
     "end_time": "2019-05-29T14:47:21.187802Z",
     "start_time": "2019-05-29T14:47:21.180804Z"
    }
   },
   "outputs": [],
   "source": [
    "s = sched.scheduler(time.time, time.sleep)\n",
    "\n",
    "def check_images(sc): \n",
    "    img_dir = \"./ReceivedImages/\"\n",
    "    img_paths = [join(img_dir,filename) for filename in os.listdir(img_dir)]\n",
    "    \n",
    "    for image in img_paths:\n",
    "        isGood = loaded_model.predict([extract_hist(Image.open( image ))])\n",
    "        if(!isGood):\n",
    "            os.remove(image)\n",
    "            print(f'image {os.path.basename(image)} deleted')\n",
    "            \n",
    "    s.enter(3600, 1, check_images, (sc,))\n",
    "    \n",
    "\n",
    "s.enter(1, 1, check_images,(s,))\n",
    "s.run()"
   ]
  }
 ],
 "metadata": {
  "kernelspec": {
   "display_name": "Python 3",
   "language": "python",
   "name": "python3"
  },
  "language_info": {
   "codemirror_mode": {
    "name": "ipython",
    "version": 3
   },
   "file_extension": ".py",
   "mimetype": "text/x-python",
   "name": "python",
   "nbconvert_exporter": "python",
   "pygments_lexer": "ipython3",
   "version": "3.7.3"
  },
  "toc": {
   "base_numbering": 1,
   "nav_menu": {},
   "number_sections": true,
   "sideBar": true,
   "skip_h1_title": false,
   "title_cell": "Table of Contents",
   "title_sidebar": "Contents",
   "toc_cell": false,
   "toc_position": {},
   "toc_section_display": true,
   "toc_window_display": false
  },
  "varInspector": {
   "cols": {
    "lenName": 16,
    "lenType": 16,
    "lenVar": 40
   },
   "kernels_config": {
    "python": {
     "delete_cmd_postfix": "",
     "delete_cmd_prefix": "del ",
     "library": "var_list.py",
     "varRefreshCmd": "print(var_dic_list())"
    },
    "r": {
     "delete_cmd_postfix": ") ",
     "delete_cmd_prefix": "rm(",
     "library": "var_list.r",
     "varRefreshCmd": "cat(var_dic_list()) "
    }
   },
   "types_to_exclude": [
    "module",
    "function",
    "builtin_function_or_method",
    "instance",
    "_Feature"
   ],
   "window_display": false
  }
 },
 "nbformat": 4,
 "nbformat_minor": 2
}
